{
 "cells": [
  {
   "cell_type": "code",
   "execution_count": 1,
   "id": "70e5e31e",
   "metadata": {},
   "outputs": [
    {
     "name": "stdout",
     "output_type": "stream",
     "text": [
      "Requirement already satisfied: nltk in d:\\anaconda3\\lib\\site-packages (3.6.1)\n",
      "Note: you may need to restart the kernel to use updated packages.Requirement already satisfied: tqdm in d:\\anaconda3\\lib\\site-packages (from nltk) (4.59.0)\n",
      "Requirement already satisfied: click in d:\\anaconda3\\lib\\site-packages (from nltk) (7.1.2)\n",
      "Requirement already satisfied: regex in d:\\anaconda3\\lib\\site-packages (from nltk) (2021.4.4)\n",
      "\n",
      "Requirement already satisfied: joblib in d:\\anaconda3\\lib\\site-packages (from nltk) (1.0.1)\n"
     ]
    }
   ],
   "source": [
    "pip install nltk"
   ]
  },
  {
   "cell_type": "code",
   "execution_count": 2,
   "id": "66edbf0b",
   "metadata": {},
   "outputs": [],
   "source": [
    "import nltk"
   ]
  },
  {
   "cell_type": "code",
   "execution_count": 3,
   "id": "77176dd8",
   "metadata": {},
   "outputs": [
    {
     "name": "stderr",
     "output_type": "stream",
     "text": [
      "[nltk_data] Downloading package punkt to\n",
      "[nltk_data]     C:\\Users\\lenovo\\AppData\\Roaming\\nltk_data...\n",
      "[nltk_data]   Package punkt is already up-to-date!\n"
     ]
    },
    {
     "data": {
      "text/plain": [
       "True"
      ]
     },
     "execution_count": 3,
     "metadata": {},
     "output_type": "execute_result"
    }
   ],
   "source": [
    "nltk.download(\"punkt\")"
   ]
  },
  {
   "cell_type": "code",
   "execution_count": 4,
   "id": "0db5878d",
   "metadata": {},
   "outputs": [],
   "source": [
    "sentence =\"Söylenmedi hiç, sana layık düşler, Benden önce, Tutsak yüreğim, biliyorsun sende İnce ince\""
   ]
  },
  {
   "cell_type": "code",
   "execution_count": 5,
   "id": "a6479ca5",
   "metadata": {},
   "outputs": [
    {
     "data": {
      "text/plain": [
       "'SÖYLENMEDI HIÇ, SANA LAYIK DÜŞLER, BENDEN ÖNCE, TUTSAK YÜREĞIM, BILIYORSUN SENDE İNCE INCE'"
      ]
     },
     "execution_count": 5,
     "metadata": {},
     "output_type": "execute_result"
    }
   ],
   "source": [
    "sentence.upper()"
   ]
  },
  {
   "cell_type": "code",
   "execution_count": 6,
   "id": "68287778",
   "metadata": {},
   "outputs": [
    {
     "data": {
      "text/plain": [
       "'söylenmedi hiç, sana layık düşler, benden önce, tutsak yüreğim, biliyorsun sende i̇nce ince'"
      ]
     },
     "execution_count": 6,
     "metadata": {},
     "output_type": "execute_result"
    }
   ],
   "source": [
    "sentence.lower()"
   ]
  },
  {
   "cell_type": "code",
   "execution_count": 7,
   "id": "3997f8db",
   "metadata": {},
   "outputs": [
    {
     "data": {
      "text/plain": [
       "['Söylenmedi',\n",
       " 'hiç,',\n",
       " 'sana',\n",
       " 'layık',\n",
       " 'düşler,',\n",
       " 'Benden',\n",
       " 'önce,',\n",
       " 'Tutsak',\n",
       " 'yüreğim,',\n",
       " 'biliyorsun',\n",
       " 'sende',\n",
       " 'İnce',\n",
       " 'ince']"
      ]
     },
     "execution_count": 7,
     "metadata": {},
     "output_type": "execute_result"
    }
   ],
   "source": [
    "sentence.split()"
   ]
  },
  {
   "cell_type": "code",
   "execution_count": 8,
   "id": "49316a25",
   "metadata": {},
   "outputs": [],
   "source": [
    "from nltk.tokenize import sent_tokenize"
   ]
  },
  {
   "cell_type": "code",
   "execution_count": 9,
   "id": "a104f527",
   "metadata": {},
   "outputs": [],
   "source": [
    "text=\"I love python. Zafer lives in a small vilage. Please call me back.\""
   ]
  },
  {
   "cell_type": "code",
   "execution_count": 10,
   "id": "58299725",
   "metadata": {},
   "outputs": [
    {
     "data": {
      "text/plain": [
       "['I love python', ' Zafer lives in a small vilage', ' Please call me back', '']"
      ]
     },
     "execution_count": 10,
     "metadata": {},
     "output_type": "execute_result"
    }
   ],
   "source": [
    "text.split(\".\")"
   ]
  },
  {
   "cell_type": "code",
   "execution_count": 11,
   "id": "6c59ec8f",
   "metadata": {},
   "outputs": [
    {
     "data": {
      "text/plain": [
       "['I love python.', 'Zafer lives in a small vilage.', 'Please call me back.']"
      ]
     },
     "execution_count": 11,
     "metadata": {},
     "output_type": "execute_result"
    }
   ],
   "source": [
    "sent_tokenize(text)"
   ]
  },
  {
   "cell_type": "code",
   "execution_count": 12,
   "id": "6a596ea3",
   "metadata": {},
   "outputs": [],
   "source": [
    "from nltk.tokenize import word_tokenize"
   ]
  },
  {
   "cell_type": "code",
   "execution_count": 13,
   "id": "6ee1dc29",
   "metadata": {},
   "outputs": [
    {
     "data": {
      "text/plain": [
       "['I',\n",
       " 'love',\n",
       " 'python',\n",
       " '.',\n",
       " 'Zafer',\n",
       " 'lives',\n",
       " 'in',\n",
       " 'a',\n",
       " 'small',\n",
       " 'vilage',\n",
       " '.',\n",
       " 'Please',\n",
       " 'call',\n",
       " 'me',\n",
       " 'back',\n",
       " '.']"
      ]
     },
     "execution_count": 13,
     "metadata": {},
     "output_type": "execute_result"
    }
   ],
   "source": [
    "word_tokenize(text)"
   ]
  },
  {
   "cell_type": "code",
   "execution_count": 14,
   "id": "c5ce2937",
   "metadata": {},
   "outputs": [],
   "source": [
    "from nltk.tokenize import TreebankWordTokenizer"
   ]
  },
  {
   "cell_type": "code",
   "execution_count": 15,
   "id": "fc3d4427",
   "metadata": {},
   "outputs": [
    {
     "data": {
      "text/plain": [
       "['I',\n",
       " 'love',\n",
       " 'python.',\n",
       " 'Zafer',\n",
       " 'lives',\n",
       " 'in',\n",
       " 'a',\n",
       " 'small',\n",
       " 'vilage.',\n",
       " 'Please',\n",
       " 'call',\n",
       " 'me',\n",
       " 'back',\n",
       " '.']"
      ]
     },
     "execution_count": 15,
     "metadata": {},
     "output_type": "execute_result"
    }
   ],
   "source": [
    "TreebankWordTokenizer().tokenize(text)"
   ]
  },
  {
   "cell_type": "code",
   "execution_count": 16,
   "id": "82059a9a",
   "metadata": {},
   "outputs": [
    {
     "name": "stdout",
     "output_type": "stream",
     "text": [
      "['i', 'me', 'my', 'myself', 'we', 'our', 'ours', 'ourselves', 'you', \"you're\", \"you've\", \"you'll\", \"you'd\", 'your', 'yours', 'yourself', 'yourselves', 'he', 'him', 'his', 'himself', 'she', \"she's\", 'her', 'hers', 'herself', 'it', \"it's\", 'its', 'itself', 'they', 'them', 'their', 'theirs', 'themselves', 'what', 'which', 'who', 'whom', 'this', 'that', \"that'll\", 'these', 'those', 'am', 'is', 'are', 'was', 'were', 'be', 'been', 'being', 'have', 'has', 'had', 'having', 'do', 'does', 'did', 'doing', 'a', 'an', 'the', 'and', 'but', 'if', 'or', 'because', 'as', 'until', 'while', 'of', 'at', 'by', 'for', 'with', 'about', 'against', 'between', 'into', 'through', 'during', 'before', 'after', 'above', 'below', 'to', 'from', 'up', 'down', 'in', 'out', 'on', 'off', 'over', 'under', 'again', 'further', 'then', 'once', 'here', 'there', 'when', 'where', 'why', 'how', 'all', 'any', 'both', 'each', 'few', 'more', 'most', 'other', 'some', 'such', 'no', 'nor', 'not', 'only', 'own', 'same', 'so', 'than', 'too', 'very', 's', 't', 'can', 'will', 'just', 'don', \"don't\", 'should', \"should've\", 'now', 'd', 'll', 'm', 'o', 're', 've', 'y', 'ain', 'aren', \"aren't\", 'couldn', \"couldn't\", 'didn', \"didn't\", 'doesn', \"doesn't\", 'hadn', \"hadn't\", 'hasn', \"hasn't\", 'haven', \"haven't\", 'isn', \"isn't\", 'ma', 'mightn', \"mightn't\", 'mustn', \"mustn't\", 'needn', \"needn't\", 'shan', \"shan't\", 'shouldn', \"shouldn't\", 'wasn', \"wasn't\", 'weren', \"weren't\", 'won', \"won't\", 'wouldn', \"wouldn't\"]\n"
     ]
    },
    {
     "name": "stderr",
     "output_type": "stream",
     "text": [
      "[nltk_data] Downloading package stopwords to\n",
      "[nltk_data]     C:\\Users\\lenovo\\AppData\\Roaming\\nltk_data...\n",
      "[nltk_data]   Package stopwords is already up-to-date!\n"
     ]
    }
   ],
   "source": [
    "nltk.download('stopwords')\n",
    "print(nltk.corpus.stopwords.words(\"english\"))     # stopwords ---> gereksiz kelimeler"
   ]
  },
  {
   "cell_type": "code",
   "execution_count": 17,
   "id": "3eb88cf9",
   "metadata": {},
   "outputs": [
    {
     "name": "stdout",
     "output_type": "stream",
     "text": [
      "['acaba', 'ama', 'aslında', 'az', 'bazı', 'belki', 'biri', 'birkaç', 'birşey', 'biz', 'bu', 'çok', 'çünkü', 'da', 'daha', 'de', 'defa', 'diye', 'eğer', 'en', 'gibi', 'hem', 'hep', 'hepsi', 'her', 'hiç', 'için', 'ile', 'ise', 'kez', 'ki', 'kim', 'mı', 'mu', 'mü', 'nasıl', 'ne', 'neden', 'nerde', 'nerede', 'nereye', 'niçin', 'niye', 'o', 'sanki', 'şey', 'siz', 'şu', 'tüm', 've', 'veya', 'ya', 'yani']\n"
     ]
    }
   ],
   "source": [
    "print(nltk.corpus.stopwords.words(\"turkish\"))"
   ]
  },
  {
   "cell_type": "code",
   "execution_count": 18,
   "id": "6ec0c968",
   "metadata": {},
   "outputs": [],
   "source": [
    "from nltk.stem import PorterStemmer"
   ]
  },
  {
   "cell_type": "code",
   "execution_count": 19,
   "id": "81ba3062",
   "metadata": {},
   "outputs": [
    {
     "data": {
      "text/plain": [
       "'joy'"
      ]
     },
     "execution_count": 19,
     "metadata": {},
     "output_type": "execute_result"
    }
   ],
   "source": [
    "PorterStemmer().stem(\"joyfulness\")    #eklerini kaldırıyor."
   ]
  },
  {
   "cell_type": "code",
   "execution_count": 20,
   "id": "7df73f48",
   "metadata": {},
   "outputs": [],
   "source": [
    "from nltk.stem import LancasterStemmer"
   ]
  },
  {
   "cell_type": "code",
   "execution_count": 21,
   "id": "6226412b",
   "metadata": {},
   "outputs": [
    {
     "data": {
      "text/plain": [
       "'happy'"
      ]
     },
     "execution_count": 21,
     "metadata": {},
     "output_type": "execute_result"
    }
   ],
   "source": [
    "LancasterStemmer().stem(\"Happiness\")"
   ]
  },
  {
   "cell_type": "code",
   "execution_count": 22,
   "id": "132ed673",
   "metadata": {},
   "outputs": [],
   "source": [
    "from nltk.stem import RegexpStemmer"
   ]
  },
  {
   "cell_type": "code",
   "execution_count": 23,
   "id": "14cf245d",
   "metadata": {},
   "outputs": [],
   "source": [
    "rs = RegexpStemmer(\"ing\")"
   ]
  },
  {
   "cell_type": "code",
   "execution_count": 24,
   "id": "5526b196",
   "metadata": {},
   "outputs": [
    {
     "data": {
      "text/plain": [
       "'work'"
      ]
     },
     "execution_count": 24,
     "metadata": {},
     "output_type": "execute_result"
    }
   ],
   "source": [
    "rs.stem(\"working\")"
   ]
  },
  {
   "cell_type": "markdown",
   "id": "525342e7",
   "metadata": {},
   "source": [
    "## <font color=pink> 7 Golden Rules in NLP Projects\n",
    "1. Remove punctuation marks.\n",
    "1. Convert all to lower/uppercase\n",
    "1. Remove things like \\n\n",
    "1. Remove numbers.\n",
    "1. Tokenize \n",
    "1. Find the words stemma\n",
    "1. Remove stopwords"
   ]
  },
  {
   "cell_type": "code",
   "execution_count": 25,
   "id": "525f7b5d",
   "metadata": {},
   "outputs": [],
   "source": [
    "from nltk.stem import SnowballStemmer"
   ]
  },
  {
   "cell_type": "code",
   "execution_count": 26,
   "id": "3811b523",
   "metadata": {},
   "outputs": [
    {
     "data": {
      "text/plain": [
       "('arabic',\n",
       " 'danish',\n",
       " 'dutch',\n",
       " 'english',\n",
       " 'finnish',\n",
       " 'french',\n",
       " 'german',\n",
       " 'hungarian',\n",
       " 'italian',\n",
       " 'norwegian',\n",
       " 'porter',\n",
       " 'portuguese',\n",
       " 'romanian',\n",
       " 'russian',\n",
       " 'spanish',\n",
       " 'swedish')"
      ]
     },
     "execution_count": 26,
     "metadata": {},
     "output_type": "execute_result"
    }
   ],
   "source": [
    "SnowballStemmer.languages                   #to see which languages it supports"
   ]
  },
  {
   "cell_type": "code",
   "execution_count": 27,
   "id": "078bf034",
   "metadata": {},
   "outputs": [
    {
     "name": "stdout",
     "output_type": "stream",
     "text": [
      "Requirement already satisfied: TurkishStemmer in d:\\anaconda3\\lib\\site-packages (1.3)\n"
     ]
    }
   ],
   "source": [
    "!pip install TurkishStemmer"
   ]
  },
  {
   "cell_type": "code",
   "execution_count": 28,
   "id": "31891754",
   "metadata": {},
   "outputs": [],
   "source": [
    "from TurkishStemmer import TurkishStemmer"
   ]
  },
  {
   "cell_type": "code",
   "execution_count": 29,
   "id": "9e5e2206",
   "metadata": {},
   "outputs": [
    {
     "data": {
      "text/plain": [
       "'bardak'"
      ]
     },
     "execution_count": 29,
     "metadata": {},
     "output_type": "execute_result"
    }
   ],
   "source": [
    "TurkishStemmer().stem(\"bardaktan\")"
   ]
  },
  {
   "cell_type": "code",
   "execution_count": 30,
   "id": "4822e09c",
   "metadata": {},
   "outputs": [
    {
     "data": {
      "text/plain": [
       "'dost'"
      ]
     },
     "execution_count": 30,
     "metadata": {},
     "output_type": "execute_result"
    }
   ],
   "source": [
    "TurkishStemmer().stem(\"dostum\")"
   ]
  },
  {
   "cell_type": "code",
   "execution_count": 31,
   "id": "bbfe3acf",
   "metadata": {},
   "outputs": [
    {
     "data": {
      "text/plain": [
       "'mahalle'"
      ]
     },
     "execution_count": 31,
     "metadata": {},
     "output_type": "execute_result"
    }
   ],
   "source": [
    "TurkishStemmer().stem(\"mahalleli\")"
   ]
  },
  {
   "cell_type": "code",
   "execution_count": 32,
   "id": "0bb643c5",
   "metadata": {},
   "outputs": [],
   "source": [
    "spstemmer = SnowballStemmer(\"spanish\")"
   ]
  },
  {
   "cell_type": "code",
   "execution_count": 33,
   "id": "313f6ef4",
   "metadata": {},
   "outputs": [
    {
     "data": {
      "text/plain": [
       "'com'"
      ]
     },
     "execution_count": 33,
     "metadata": {},
     "output_type": "execute_result"
    }
   ],
   "source": [
    "spstemmer.stem(\"comiendo\")   # means eating"
   ]
  },
  {
   "cell_type": "code",
   "execution_count": 34,
   "id": "0345a169",
   "metadata": {},
   "outputs": [],
   "source": [
    "frstemmer = SnowballStemmer(\"french\")"
   ]
  },
  {
   "cell_type": "code",
   "execution_count": 35,
   "id": "df0e48fd",
   "metadata": {},
   "outputs": [
    {
     "data": {
      "text/plain": [
       "'manag'"
      ]
     },
     "execution_count": 35,
     "metadata": {},
     "output_type": "execute_result"
    }
   ],
   "source": [
    "frstemmer.stem(\"manager\")"
   ]
  },
  {
   "cell_type": "markdown",
   "id": "70de86e9",
   "metadata": {},
   "source": [
    "### Part of Speech - POS \n",
    "Finding the function of the word in a sentence.\n",
    "In English the main parts of speech are noun, pronoun, adjective, determiner, verb, adverb, preposition, conjunction, and interjection."
   ]
  },
  {
   "cell_type": "code",
   "execution_count": 36,
   "id": "f8dc6fb3",
   "metadata": {},
   "outputs": [],
   "source": [
    "from nltk.tokenize import word_tokenize"
   ]
  },
  {
   "cell_type": "code",
   "execution_count": 37,
   "id": "92c51e8a",
   "metadata": {},
   "outputs": [],
   "source": [
    "sentence = \"Zafer loves stuffed grape leaves. Artificial intelligence is cool\""
   ]
  },
  {
   "cell_type": "code",
   "execution_count": 38,
   "id": "1845f87e",
   "metadata": {},
   "outputs": [
    {
     "name": "stderr",
     "output_type": "stream",
     "text": [
      "[nltk_data] Downloading package averaged_perceptron_tagger to\n",
      "[nltk_data]     C:\\Users\\lenovo\\AppData\\Roaming\\nltk_data...\n",
      "[nltk_data]   Package averaged_perceptron_tagger is already up-to-\n",
      "[nltk_data]       date!\n"
     ]
    },
    {
     "data": {
      "text/plain": [
       "True"
      ]
     },
     "execution_count": 38,
     "metadata": {},
     "output_type": "execute_result"
    }
   ],
   "source": [
    "nltk.download(\"averaged_perceptron_tagger\")"
   ]
  },
  {
   "cell_type": "code",
   "execution_count": 39,
   "id": "7e66a9a8",
   "metadata": {},
   "outputs": [
    {
     "data": {
      "text/plain": [
       "[('Zafer', 'NNP'),\n",
       " ('loves', 'VBZ'),\n",
       " ('stuffed', 'JJ'),\n",
       " ('grape', 'NN'),\n",
       " ('leaves', 'VBZ'),\n",
       " ('.', '.'),\n",
       " ('Artificial', 'JJ'),\n",
       " ('intelligence', 'NN'),\n",
       " ('is', 'VBZ'),\n",
       " ('cool', 'JJ')]"
      ]
     },
     "execution_count": 39,
     "metadata": {},
     "output_type": "execute_result"
    }
   ],
   "source": [
    "nltk.pos_tag(word_tokenize(sentence))"
   ]
  },
  {
   "cell_type": "code",
   "execution_count": 40,
   "id": "3ab4ad68",
   "metadata": {},
   "outputs": [],
   "source": [
    "text = word_tokenize(\"it is a pleasent day today\")"
   ]
  },
  {
   "cell_type": "code",
   "execution_count": 41,
   "id": "22bae48f",
   "metadata": {},
   "outputs": [
    {
     "data": {
      "text/plain": [
       "['it', 'is', 'a', 'pleasent', 'day', 'today']"
      ]
     },
     "execution_count": 41,
     "metadata": {},
     "output_type": "execute_result"
    }
   ],
   "source": [
    "text"
   ]
  },
  {
   "cell_type": "code",
   "execution_count": 42,
   "id": "3236b99d",
   "metadata": {},
   "outputs": [
    {
     "data": {
      "text/plain": [
       "[('it', 'PRP'),\n",
       " ('is', 'VBZ'),\n",
       " ('a', 'DT'),\n",
       " ('pleasent', 'JJ'),\n",
       " ('day', 'NN'),\n",
       " ('today', 'NN')]"
      ]
     },
     "execution_count": 42,
     "metadata": {},
     "output_type": "execute_result"
    }
   ],
   "source": [
    "nltk.pos_tag(text)"
   ]
  },
  {
   "cell_type": "code",
   "execution_count": 43,
   "id": "65bf0248",
   "metadata": {},
   "outputs": [],
   "source": [
    "from nltk.tag import DefaultTagger"
   ]
  },
  {
   "cell_type": "code",
   "execution_count": 44,
   "id": "6cbce0be",
   "metadata": {},
   "outputs": [],
   "source": [
    "tag = DefaultTagger(\"He is the man\")"
   ]
  },
  {
   "cell_type": "code",
   "execution_count": 45,
   "id": "59c0c153",
   "metadata": {},
   "outputs": [
    {
     "data": {
      "text/plain": [
       "[('beautiful', 'He is the man'), ('morning', 'He is the man')]"
      ]
     },
     "execution_count": 45,
     "metadata": {},
     "output_type": "execute_result"
    }
   ],
   "source": [
    "tag.tag([\"beautiful\",\"morning\"])"
   ]
  },
  {
   "cell_type": "code",
   "execution_count": 46,
   "id": "9b815bd5",
   "metadata": {},
   "outputs": [
    {
     "name": "stdout",
     "output_type": "stream",
     "text": [
      "Requirement already satisfied: autocorrect in d:\\anaconda3\\lib\\site-packages (2.6.1)\n"
     ]
    }
   ],
   "source": [
    "!pip install autocorrect"
   ]
  },
  {
   "cell_type": "code",
   "execution_count": 47,
   "id": "219eebd2",
   "metadata": {},
   "outputs": [],
   "source": [
    "from autocorrect import spell"
   ]
  },
  {
   "cell_type": "code",
   "execution_count": 48,
   "id": "c4130d37",
   "metadata": {},
   "outputs": [
    {
     "name": "stdout",
     "output_type": "stream",
     "text": [
      "autocorrect.spell is deprecated,             use autocorrect.Speller instead\n"
     ]
    },
    {
     "data": {
      "text/plain": [
       "'taught'"
      ]
     },
     "execution_count": 48,
     "metadata": {},
     "output_type": "execute_result"
    }
   ],
   "source": [
    "spell(\"tasghe\")"
   ]
  },
  {
   "cell_type": "code",
   "execution_count": 49,
   "id": "1d03bb38",
   "metadata": {
    "scrolled": true
   },
   "outputs": [
    {
     "name": "stdout",
     "output_type": "stream",
     "text": [
      "autocorrect.spell is deprecated,             use autocorrect.Speller instead\n"
     ]
    },
    {
     "data": {
      "text/plain": [
       "'happy'"
      ]
     },
     "execution_count": 49,
     "metadata": {},
     "output_type": "execute_result"
    }
   ],
   "source": [
    "spell(\"happu\")"
   ]
  },
  {
   "cell_type": "code",
   "execution_count": 50,
   "id": "0687aaaf",
   "metadata": {},
   "outputs": [
    {
     "name": "stdout",
     "output_type": "stream",
     "text": [
      "Requirement already satisfied: TextBlob in d:\\anaconda3\\lib\\site-packages (0.17.1)\n",
      "Requirement already satisfied: nltk>=3.1 in d:\\anaconda3\\lib\\site-packages (from TextBlob) (3.6.1)\n",
      "Requirement already satisfied: click in d:\\anaconda3\\lib\\site-packages (from nltk>=3.1->TextBlob) (7.1.2)\n",
      "Requirement already satisfied: joblib in d:\\anaconda3\\lib\\site-packages (from nltk>=3.1->TextBlob) (1.0.1)\n",
      "Requirement already satisfied: tqdm in d:\\anaconda3\\lib\\site-packages (from nltk>=3.1->TextBlob) (4.59.0)\n",
      "Requirement already satisfied: regex in d:\\anaconda3\\lib\\site-packages (from nltk>=3.1->TextBlob) (2021.4.4)\n"
     ]
    }
   ],
   "source": [
    "!pip install TextBlob"
   ]
  },
  {
   "cell_type": "code",
   "execution_count": 51,
   "id": "ac48864b",
   "metadata": {},
   "outputs": [],
   "source": [
    "from textblob import TextBlob"
   ]
  },
  {
   "cell_type": "code",
   "execution_count": 52,
   "id": "8422926c",
   "metadata": {},
   "outputs": [],
   "source": [
    "b = TextBlob(\"I havv good spelling\")"
   ]
  },
  {
   "cell_type": "code",
   "execution_count": 53,
   "id": "e2ef551e",
   "metadata": {},
   "outputs": [],
   "source": [
    "#b.detect_language()  "
   ]
  },
  {
   "cell_type": "code",
   "execution_count": 54,
   "id": "66923b91",
   "metadata": {},
   "outputs": [
    {
     "data": {
      "text/plain": [
       "TextBlob(\"I have good spelling\")"
      ]
     },
     "execution_count": 54,
     "metadata": {},
     "output_type": "execute_result"
    }
   ],
   "source": [
    "b.correct()"
   ]
  },
  {
   "cell_type": "code",
   "execution_count": 55,
   "id": "aae300c1",
   "metadata": {},
   "outputs": [
    {
     "name": "stdout",
     "output_type": "stream",
     "text": [
      "Requirement already satisfied: langdetect in d:\\anaconda3\\lib\\site-packages (1.0.9)\n",
      "Requirement already satisfied: six in d:\\anaconda3\\lib\\site-packages (from langdetect) (1.15.0)\n",
      "Note: you may need to restart the kernel to use updated packages.\n"
     ]
    }
   ],
   "source": [
    "pip install langdetect"
   ]
  },
  {
   "cell_type": "code",
   "execution_count": 56,
   "id": "3d6ad7bb",
   "metadata": {},
   "outputs": [],
   "source": [
    "from langdetect import detect"
   ]
  },
  {
   "cell_type": "code",
   "execution_count": 57,
   "id": "b3998781",
   "metadata": {},
   "outputs": [
    {
     "data": {
      "text/plain": [
       "'de'"
      ]
     },
     "execution_count": 57,
     "metadata": {},
     "output_type": "execute_result"
    }
   ],
   "source": [
    "detect(\"Ein. zwei, vier\")"
   ]
  },
  {
   "cell_type": "code",
   "execution_count": 58,
   "id": "81bb7b2b",
   "metadata": {},
   "outputs": [
    {
     "data": {
      "text/plain": [
       "'tr'"
      ]
     },
     "execution_count": 58,
     "metadata": {},
     "output_type": "execute_result"
    }
   ],
   "source": [
    "detect(\"Nasılsın\")"
   ]
  },
  {
   "cell_type": "code",
   "execution_count": 59,
   "id": "98fbc519",
   "metadata": {},
   "outputs": [
    {
     "data": {
      "text/plain": [
       "'en'"
      ]
     },
     "execution_count": 59,
     "metadata": {},
     "output_type": "execute_result"
    }
   ],
   "source": [
    "detect(\"congratulations\")"
   ]
  },
  {
   "cell_type": "code",
   "execution_count": 60,
   "id": "fbf494fc",
   "metadata": {},
   "outputs": [],
   "source": [
    "s = \"I am a free black human from Africa\""
   ]
  },
  {
   "cell_type": "code",
   "execution_count": 61,
   "id": "31267d45",
   "metadata": {},
   "outputs": [],
   "source": [
    "b = TextBlob(s)"
   ]
  },
  {
   "cell_type": "code",
   "execution_count": 62,
   "id": "5cd9c4f5",
   "metadata": {},
   "outputs": [
    {
     "data": {
      "text/plain": [
       "TextBlob(\"Afrika'dan özgür bir siyah insanım\")"
      ]
     },
     "execution_count": 62,
     "metadata": {},
     "output_type": "execute_result"
    }
   ],
   "source": [
    "b.translate(from_lang=\"en\",to=\"tr\")"
   ]
  },
  {
   "cell_type": "code",
   "execution_count": 63,
   "id": "99b750e1",
   "metadata": {},
   "outputs": [],
   "source": [
    "k = \"hayat kısa, kuşlar uçuyor\""
   ]
  },
  {
   "cell_type": "code",
   "execution_count": 64,
   "id": "174bd59a",
   "metadata": {},
   "outputs": [],
   "source": [
    "b = TextBlob(k)"
   ]
  },
  {
   "cell_type": "code",
   "execution_count": 65,
   "id": "f0cccbf2",
   "metadata": {},
   "outputs": [
    {
     "data": {
      "text/plain": [
       "TextBlob(\"الحياة قصيرة ، الطيور تطير\")"
      ]
     },
     "execution_count": 65,
     "metadata": {},
     "output_type": "execute_result"
    }
   ],
   "source": [
    "b.translate(\"tr\",\"ar\")"
   ]
  },
  {
   "cell_type": "code",
   "execution_count": 66,
   "id": "068b729d",
   "metadata": {},
   "outputs": [
    {
     "name": "stdout",
     "output_type": "stream",
     "text": [
      "Requirement already satisfied: google in d:\\anaconda3\\lib\\site-packages (3.0.0)\n",
      "Requirement already satisfied: beautifulsoup4 in d:\\anaconda3\\lib\\site-packages (from google) (4.9.3)\n",
      "Requirement already satisfied: soupsieve>1.2 in d:\\anaconda3\\lib\\site-packages (from beautifulsoup4->google) (2.2.1)\n",
      "Note: you may need to restart the kernel to use updated packages.\n"
     ]
    }
   ],
   "source": [
    "pip install google"
   ]
  },
  {
   "cell_type": "code",
   "execution_count": 67,
   "id": "f790e2f3",
   "metadata": {},
   "outputs": [],
   "source": [
    "from googlesearch import search"
   ]
  },
  {
   "cell_type": "code",
   "execution_count": 68,
   "id": "2cee3ec9",
   "metadata": {},
   "outputs": [
    {
     "name": "stdout",
     "output_type": "stream",
     "text": [
      "https://turkiyeustunzekalilarokulu.com/yapay-zeka-ii-zafer-acar/\n",
      "https://www.karar.com/yazarlar/zafer-acar/30-gunde-yapay-zeka-1588433\n",
      "https://www.karar.com/yazarlar/zafer-acar/yapay-zeka-is-dunyasini-derinden-sarsiyor-1589535\n",
      "http://www.birannetavsiyesi.com/tag/zafer-acar-yapay-zeka/\n",
      "https://www.youtube.com/watch?v=PleY4TOQmfw\n",
      "https://ne-np.facebook.com/KararHaber/posts/zafer-acar-g%C3%B6r%C3%BCld%C3%BC%C4%9F%C3%BC-gibi-topyek%C3%BCn-yapay-zeka-%C3%B6%C4%9Frenmemiz-gerekiyor-de%C4%9Filse-%C3%B6n%C3%BCm%C3%BC/3354956214607941/\n",
      "https://twitter.com/kararhaber/status/1391706559760175108\n",
      "https://www.bizsiziz.com/cern-arastirmacisi-zafer-acardan-dikkat-ceken-yapay-zeka-aciklamasi/\n",
      "https://tr.newworldai.com/tag/zafer-acar/\n",
      "https://tr.newworldai.com/sesin-arkasindaki-yuz-zafer-acar/\n",
      "https://www.ensonhaber.com/teknoloji/cern-arastirmacisi-zafer-acar-insanlar-2-kilometrede-bir-iz-birakiyor\n",
      "https://turkiye.ai/basinda-biz/\n",
      "https://www.cumhuriyet.com.tr/haber/insanlar-her-2-kilometrede-bir-dijital-iz-birakiyor-1799731\n",
      "https://www.gunlukkoseyazilari.com/karar-zafer-acar-01-subat-2021-30-gunde-yapay-zeka/791061\n",
      "https://www.tyb.org.tr/zafer-acar-yapay-zekaya-nereden-baslamali-40384h.htm\n",
      "https://www.koseyazarioku.com/yazar/zafer-acar/3/\n",
      "https://1000kitap.com/kitap/kamburun-yukselisi--278393\n",
      "https://www.sondakika32.com/haber-zafer-acar-yapay-zeka-yeni-meslekler-olusturacak-19973.html\n",
      "https://www.edirneahval.com/bahcesehir-kolejinden-yapay-zeka-soylesisi\n",
      "https://www.auto2000kediri.com/zafer-acar\n",
      "https://uk.centropermanentedanza.it/tr/c1d99b128\n",
      "https://kidega.com/yazar/zafer-acar-172869/\n",
      "https://www.sonkoseyazilari.com/karar/zafer-acar/8-Subat-2021/yapay-zeka-caginda-ask/619269\n",
      "https://www.sonkoseyazilari.com/zafer-acar-dunku-yazisi\n",
      "https://www.site-traffic.net/zafer-acar-kimdir\n",
      "https://www.oakfortressjournals.org/zafer-acar\n",
      "https://www.edirnegazetesi.com.tr/yapay-zeka-uzerine-konustular/27843/\n",
      "https://tr.polcip.pl/6b21806b/\n",
      "https://2022.kancelaria-unww.pl/a27a808c/\n",
      "https://www.linkedin.com/in/zaferacar\n",
      "https://www.karasuhaber.com/yasam/engellilere-mujdeli-haber-h1953.html\n",
      "https://dergipark.org.tr/tr/pub/trta/issue/65181/1002521\n",
      "https://m.biznesallegro.pl/dc87e7fd/\n",
      "https://www.yazartakibi.com/home/writes/show/618033\n",
      "https://oceaneers.it/pem/ebpw3defog1r/\n",
      "https://www.yeniakit.com.tr/haber/insanlar-her-2-kilometrede-bir-dijital-iz-birakiyor-1480232.html\n",
      "https://bljo.f1sh.it/yapay-zeka-m%C3%BChendisi-maa%C5%9F%C4%B1.html\n",
      "https://www.gunboyugazetesi.com.tr/arsiv-haberi-73019h.htm\n",
      "https://www.academia.edu/49258693/Lojistik_Y%C3%B6netimi\n",
      "https://2022.cudanajawie.pl/b331c5bb/\n",
      "https://www.bilgecocuk.com/bilge-cocuk-aralik-2020-sayisi-cikti/\n",
      "https://lnvu.lesruchesdelafalaise.fr/zafer-arapkirli-canl%C4%B1-yay%C4%B1n.html\n",
      "https://www.konyasehirkoleji.com/anadolu-lisesi/haberler/sehir-yapay-zeka-ya-kavusuyor\n",
      "https://www.polatkitapcilik.com/kitap/lojistik-yaklasimiyla-tedarik-zinciri-yonetimi-a-zafer-acar-9786051339535\n",
      "https://ntxc.falconisindaco.it/yapay-zeka-m%C3%BChendisi-maa%C5%9F%C4%B1.html\n",
      "http://mxtube.name/videos/search/zafer%20acar/\n",
      "http://mxtube.live/videos/search/Zafer%20Acar\n",
      "https://www.bpdbauranchi.org/haber-sunan-yapay-zeka\n",
      "https://www.airporthaber.com/dhmi-haberleri/havacilik-sektor-paneline-buyuk-ilgi.html\n",
      "https://www.haber.com/farkinda-degiliz-ama-surekli-dijital-iz-birakiyoruz-480275/\n",
      "https://events.csu.edu.tr/?EventID=146\n",
      "https://woio.ecolodgeresort.it/yapay-zeka-m%C3%BChendisi-maa%C5%9F%C4%B1.html\n",
      "https://tr.mpisterm.pl/5f3f0656/\n",
      "https://praisr.net/karar_tv.html\n",
      "https://www.sihor.net/haber-sunan-yapay-zeka\n",
      "https://christiane-guyer.ch/karar-tv-canl%C4%B1.html\n",
      "https://oomovoe.com/post-detail/uzayda-calsacak-komedyen-aranyor---zafer-acar/23559116\n",
      "http://www.istikbalgazetesi.com/haber.asp?sec=2&newscatid=0&yazarid=271&newsid=223278\n",
      "https://www.cimri.com/ekonomi-pazarlama-kitaplari?page=24\n",
      "https://gazikitabevi.com.tr/index.php/kategori/yapay-zeka\n",
      "https://autoecole-les-mirons.fr/karar-tv-canl%C4%B1-yay%C4%B1n.html\n",
      "https://shiftdelete.net/her-iki-kmde-bir-dijital-iz-birakiyoruz\n",
      "https://amdo.deusconsulting.it/yapay-zeka-m%C3%BChendisi-maa%C5%9F%C4%B1.html\n",
      "https://zerofeerentals.com/karar_tv.html\n",
      "https://www.healthworldnews.net/yapay-zeka-ve-insan-kalabilmek-bolum-2/\n",
      "https://wawai.es/yapay-zeka-ve-siyaset.html\n",
      "https://diyanetamerica.org/wp-content/uploads/2020/06/DE2020SummerProgram.pdf\n",
      "https://mpradio.es/2e31aa3a/\n",
      "https://kayiprihtim.com/haberler/bilim/7-olimpos-gokyuzu-ve-bilim-festivali-kayit-sureci-basladi/\n",
      "https://investinmarche.it/wok/a7sq2v1donqz/\n",
      "https://parafia.bonczyk.org/mcanlitv.html\n",
      "https://www.kibrispostasi.com/c77-SAGLIK/n417202-prof-dr-hasan-zafer-acar-kanserde-erken-taniya-dikkat-cekti\n",
      "https://ets.anadolu.edu.tr/storage/nfs/LOJ104U/ebook/LOJ104U-13V2S1-8-0-1-SV1-ebook.pdf\n",
      "https://tr.natematchin.pl/782af625/\n",
      "https://pb3658.net/karar_tv.html\n",
      "https://evrimagaci.org/yapay-zeka-tum-kararlari-bizim-yerimize-alarak-secim-yapma-yetimizi-koreltebilir-mi-10258\n",
      "https://barbuzzabalestre.it/yapay-zeka-yaz-okulu-2018.html\n",
      "https://qasuzyd.mailingliststudio.es/hysex/tixum.php\n",
      "https://www.orionkitabevi.com.tr/kategori/bilim-muhendislik/yapay-zeka/\n",
      "http://mxtube.net/videos/search/Zafer%20Acar\n",
      "https://zsb.mariajuliamusicoterapia.it/vikiaslan-canl%C4%B1-yay%C4%B1n.html\n",
      "https://istanbulakademi.meb.gov.tr/SysOs201.php?pID=61\n",
      "http://www.fbe2.sakarya.edu.tr/TezListele.aspx?kelime=YAPAY&bolumid=0&tip=0&durum=0\n",
      "https://www.malatyanethaber.com.tr/yazi/mehmet-zeki-dincarslan/teknoloji-ilerledikce-issizlik-artacak/2500/\n",
      "https://www.heryerdebul.com/kategoriler/bilgi/ad/yapay-zeka-ve-makine-ogrenimi-kurumsal-yazilim-gelistirmeyi-nasil-guclendirir,10850\n",
      "https://www.meridyenhaber.com/alinti-yazarlar/cin-askeri-birimleri-biyolojik-olarak-gelistirilmis-h54940.html\n",
      "https://nitter.fdn.fr/IEEEegesb/status/1337011342172168193\n",
      "https://www.naifcare.pl/karar-fali.html\n",
      "https://ogbf.kozmikanafor.com/gunluk/author/309-superuser\n",
      "https://imatip.mediacuerdo.es/toz/fiqoku.php\n",
      "https://www.hidropolitikakademi.org/tr/article/22118/21-yuzyilin-en-onemli-meslegi-veri-bilimi\n",
      "https://big4.cz/eaca5dc6/\n",
      "https://www.phr-forensic-course.org/amazon-tedarik-zinciri\n",
      "https://qn.trud-sudim.ru/RCMDIwMkI4NkQwQQ==e\n",
      "http://giak2015.isikun.edu.tr/tr/kabul-edilen-bildiriler\n",
      "https://www.siyasalkitap.com/bilim-muhendislik/yapay-zeka\n",
      "https://www.gtech.com.tr/yapay-zeka-uzerine-okunasi-kitaplar-1/\n",
      "https://www.kitapmatik.com.tr/kitap/stratejik-lojistik-yonetimi-p928767.html\n",
      "https://domdekorum.pl/e07667c3/\n",
      "http://www.haberdurus.com/haber/haber-sunan-yapay-zeka-24473.html\n",
      "https://www.nobelyayin.com/kitapliste.asp?c=880&p=16\n",
      "https://www.mynet.com/insanlar-her-2-kilometrede-bir-dijital-iz-birakiyor-110106676375\n",
      "https://tur.tivoyageur.com/nasa-feed-goes-dead-after-unidentified-object-passes-through-space-toward-earth-366746\n",
      "http://www.ekonomiyontem.com.tr/lojistik/sayfa/51/\n",
      "https://web.aktowkaa4.pl/4a3b07f9/\n",
      "http://www.yapayzekaverisi.com/kitaplistesi/liste/liste.html\n",
      "https://www.okulhaberleri.net/sayin-zafer-acardan-okulumuza-ozel-egitim-4062720\n",
      "https://www.domdzieckanfp.org/zafer-acar-kimdir\n",
      "https://www.sevilenotocekici.com/yapay-zekayla-bebek\n",
      "https://www.oncevatan.com.tr/bilim-ve-teknoloji/eskisehirli-sanayicilere-uyumsoftun-kurumsal-is-cozumleri-anlatildi-h191954.html\n",
      "https://bian-ko.com/karar_tv.html\n",
      "https://www.acarbaltas.com/yapay-zekanin-egemen-oldugu-dunyada-yasamak/\n",
      "https://davisvideo1999768085.blogspot.com/?download,yN7xPVWBB1A\n",
      "https://davisvideo1999768085.blogspot.com/?download,UDWtuu2_kK0\n",
      "https://eksisozluk.com/yapay-zeka--42117?p=4\n",
      "https://tramaoluo.avtosport-orel.ru/MeMDIwMjRFN0U5QQ==Y\n",
      "https://233419389.time2visit.de/yapay-zeka-ve-siyaset.html\n",
      "https://dwo.imperiyal-klimat.ru/bWMDIwMjRFN0VCNg==n\n"
     ]
    }
   ],
   "source": [
    "for i in search (\"Zafer Acar Yapay Zeka\",lang=\"tr\"):\n",
    "    print(i)"
   ]
  },
  {
   "cell_type": "code",
   "execution_count": 69,
   "id": "dd4a4d0f",
   "metadata": {},
   "outputs": [],
   "source": [
    "# TF - IDF --> Term Frequency - Inverse Document Frequency"
   ]
  },
  {
   "cell_type": "code",
   "execution_count": 70,
   "id": "eac89401",
   "metadata": {},
   "outputs": [],
   "source": [
    "#vectorizer"
   ]
  },
  {
   "cell_type": "code",
   "execution_count": 71,
   "id": "b79c02aa",
   "metadata": {},
   "outputs": [],
   "source": [
    "from sklearn.feature_extraction.text import CountVectorizer, TfidfVectorizer"
   ]
  },
  {
   "cell_type": "code",
   "execution_count": 72,
   "id": "eda79372",
   "metadata": {},
   "outputs": [],
   "source": [
    "sentence = \"Call you tonight\",\"Call me a cab\",\"please, call me...PLEASE!\""
   ]
  },
  {
   "cell_type": "code",
   "execution_count": 73,
   "id": "014a870c",
   "metadata": {},
   "outputs": [],
   "source": [
    "vect = CountVectorizer()"
   ]
  },
  {
   "cell_type": "code",
   "execution_count": 74,
   "id": "d214083e",
   "metadata": {},
   "outputs": [],
   "source": [
    "import pandas as pd"
   ]
  },
  {
   "cell_type": "code",
   "execution_count": 75,
   "id": "f538bafb",
   "metadata": {},
   "outputs": [],
   "source": [
    "tf = pd.DataFrame(vect.fit_transform(sentence).toarray(),columns=vect.get_feature_names())   #fit_transform() -> cümlenin içindeki her kelimeyi vektöre çevirir."
   ]
  },
  {
   "cell_type": "code",
   "execution_count": 76,
   "id": "209b5db1",
   "metadata": {},
   "outputs": [
    {
     "data": {
      "text/html": [
       "<div>\n",
       "<style scoped>\n",
       "    .dataframe tbody tr th:only-of-type {\n",
       "        vertical-align: middle;\n",
       "    }\n",
       "\n",
       "    .dataframe tbody tr th {\n",
       "        vertical-align: top;\n",
       "    }\n",
       "\n",
       "    .dataframe thead th {\n",
       "        text-align: right;\n",
       "    }\n",
       "</style>\n",
       "<table border=\"1\" class=\"dataframe\">\n",
       "  <thead>\n",
       "    <tr style=\"text-align: right;\">\n",
       "      <th></th>\n",
       "      <th>cab</th>\n",
       "      <th>call</th>\n",
       "      <th>me</th>\n",
       "      <th>please</th>\n",
       "      <th>tonight</th>\n",
       "      <th>you</th>\n",
       "    </tr>\n",
       "  </thead>\n",
       "  <tbody>\n",
       "    <tr>\n",
       "      <th>0</th>\n",
       "      <td>0</td>\n",
       "      <td>1</td>\n",
       "      <td>0</td>\n",
       "      <td>0</td>\n",
       "      <td>1</td>\n",
       "      <td>1</td>\n",
       "    </tr>\n",
       "    <tr>\n",
       "      <th>1</th>\n",
       "      <td>1</td>\n",
       "      <td>1</td>\n",
       "      <td>1</td>\n",
       "      <td>0</td>\n",
       "      <td>0</td>\n",
       "      <td>0</td>\n",
       "    </tr>\n",
       "    <tr>\n",
       "      <th>2</th>\n",
       "      <td>0</td>\n",
       "      <td>1</td>\n",
       "      <td>1</td>\n",
       "      <td>2</td>\n",
       "      <td>0</td>\n",
       "      <td>0</td>\n",
       "    </tr>\n",
       "  </tbody>\n",
       "</table>\n",
       "</div>"
      ],
      "text/plain": [
       "   cab  call  me  please  tonight  you\n",
       "0    0     1   0       0        1    1\n",
       "1    1     1   1       0        0    0\n",
       "2    0     1   1       2        0    0"
      ]
     },
     "execution_count": 76,
     "metadata": {},
     "output_type": "execute_result"
    }
   ],
   "source": [
    "tf"
   ]
  },
  {
   "cell_type": "code",
   "execution_count": 77,
   "id": "5161035f",
   "metadata": {},
   "outputs": [],
   "source": [
    "vect = CountVectorizer()\n",
    "df = vect.fit_transform(sentence).toarray().sum(axis=0)  # axis=0 ---> satırları toplar"
   ]
  },
  {
   "cell_type": "code",
   "execution_count": 78,
   "id": "fdd80164",
   "metadata": {},
   "outputs": [
    {
     "data": {
      "text/plain": [
       "array([1, 3, 2, 2, 1, 1], dtype=int64)"
      ]
     },
     "execution_count": 78,
     "metadata": {},
     "output_type": "execute_result"
    }
   ],
   "source": [
    "df"
   ]
  },
  {
   "cell_type": "code",
   "execution_count": 79,
   "id": "a215fe0b",
   "metadata": {},
   "outputs": [
    {
     "data": {
      "text/html": [
       "<div>\n",
       "<style scoped>\n",
       "    .dataframe tbody tr th:only-of-type {\n",
       "        vertical-align: middle;\n",
       "    }\n",
       "\n",
       "    .dataframe tbody tr th {\n",
       "        vertical-align: top;\n",
       "    }\n",
       "\n",
       "    .dataframe thead th {\n",
       "        text-align: right;\n",
       "    }\n",
       "</style>\n",
       "<table border=\"1\" class=\"dataframe\">\n",
       "  <thead>\n",
       "    <tr style=\"text-align: right;\">\n",
       "      <th></th>\n",
       "      <th>cab</th>\n",
       "      <th>call</th>\n",
       "      <th>me</th>\n",
       "      <th>please</th>\n",
       "      <th>tonight</th>\n",
       "      <th>you</th>\n",
       "    </tr>\n",
       "  </thead>\n",
       "  <tbody>\n",
       "    <tr>\n",
       "      <th>0</th>\n",
       "      <td>1</td>\n",
       "      <td>3</td>\n",
       "      <td>2</td>\n",
       "      <td>2</td>\n",
       "      <td>1</td>\n",
       "      <td>1</td>\n",
       "    </tr>\n",
       "  </tbody>\n",
       "</table>\n",
       "</div>"
      ],
      "text/plain": [
       "   cab  call  me  please  tonight  you\n",
       "0    1     3   2       2        1    1"
      ]
     },
     "execution_count": 79,
     "metadata": {},
     "output_type": "execute_result"
    }
   ],
   "source": [
    "pd.DataFrame(df.reshape(1,6),columns=vect.get_feature_names())"
   ]
  },
  {
   "cell_type": "code",
   "execution_count": 80,
   "id": "2874d2a5",
   "metadata": {},
   "outputs": [
    {
     "data": {
      "text/html": [
       "<div>\n",
       "<style scoped>\n",
       "    .dataframe tbody tr th:only-of-type {\n",
       "        vertical-align: middle;\n",
       "    }\n",
       "\n",
       "    .dataframe tbody tr th {\n",
       "        vertical-align: top;\n",
       "    }\n",
       "\n",
       "    .dataframe thead th {\n",
       "        text-align: right;\n",
       "    }\n",
       "</style>\n",
       "<table border=\"1\" class=\"dataframe\">\n",
       "  <thead>\n",
       "    <tr style=\"text-align: right;\">\n",
       "      <th></th>\n",
       "      <th>cab</th>\n",
       "      <th>call</th>\n",
       "      <th>me</th>\n",
       "      <th>please</th>\n",
       "      <th>tonight</th>\n",
       "      <th>you</th>\n",
       "    </tr>\n",
       "  </thead>\n",
       "  <tbody>\n",
       "    <tr>\n",
       "      <th>0</th>\n",
       "      <td>0.0</td>\n",
       "      <td>33.333333</td>\n",
       "      <td>0.0</td>\n",
       "      <td>0.0</td>\n",
       "      <td>100.0</td>\n",
       "      <td>100.0</td>\n",
       "    </tr>\n",
       "    <tr>\n",
       "      <th>1</th>\n",
       "      <td>100.0</td>\n",
       "      <td>33.333333</td>\n",
       "      <td>50.0</td>\n",
       "      <td>0.0</td>\n",
       "      <td>0.0</td>\n",
       "      <td>0.0</td>\n",
       "    </tr>\n",
       "    <tr>\n",
       "      <th>2</th>\n",
       "      <td>0.0</td>\n",
       "      <td>33.333333</td>\n",
       "      <td>50.0</td>\n",
       "      <td>100.0</td>\n",
       "      <td>0.0</td>\n",
       "      <td>0.0</td>\n",
       "    </tr>\n",
       "  </tbody>\n",
       "</table>\n",
       "</div>"
      ],
      "text/plain": [
       "     cab       call    me  please  tonight    you\n",
       "0    0.0  33.333333   0.0     0.0    100.0  100.0\n",
       "1  100.0  33.333333  50.0     0.0      0.0    0.0\n",
       "2    0.0  33.333333  50.0   100.0      0.0    0.0"
      ]
     },
     "execution_count": 80,
     "metadata": {},
     "output_type": "execute_result"
    }
   ],
   "source": [
    "tf*100 / df  # yüzde kaçının hangi cümlede geçtiğini söyler."
   ]
  },
  {
   "cell_type": "code",
   "execution_count": 81,
   "id": "c372f221",
   "metadata": {},
   "outputs": [],
   "source": [
    "vect = TfidfVectorizer()"
   ]
  },
  {
   "cell_type": "code",
   "execution_count": 82,
   "id": "9efb9b1a",
   "metadata": {},
   "outputs": [
    {
     "data": {
      "text/html": [
       "<div>\n",
       "<style scoped>\n",
       "    .dataframe tbody tr th:only-of-type {\n",
       "        vertical-align: middle;\n",
       "    }\n",
       "\n",
       "    .dataframe tbody tr th {\n",
       "        vertical-align: top;\n",
       "    }\n",
       "\n",
       "    .dataframe thead th {\n",
       "        text-align: right;\n",
       "    }\n",
       "</style>\n",
       "<table border=\"1\" class=\"dataframe\">\n",
       "  <thead>\n",
       "    <tr style=\"text-align: right;\">\n",
       "      <th></th>\n",
       "      <th>cab</th>\n",
       "      <th>call</th>\n",
       "      <th>me</th>\n",
       "      <th>please</th>\n",
       "      <th>tonight</th>\n",
       "      <th>you</th>\n",
       "    </tr>\n",
       "  </thead>\n",
       "  <tbody>\n",
       "    <tr>\n",
       "      <th>0</th>\n",
       "      <td>0.000000</td>\n",
       "      <td>0.385372</td>\n",
       "      <td>0.000000</td>\n",
       "      <td>0.000000</td>\n",
       "      <td>0.652491</td>\n",
       "      <td>0.652491</td>\n",
       "    </tr>\n",
       "    <tr>\n",
       "      <th>1</th>\n",
       "      <td>0.720333</td>\n",
       "      <td>0.425441</td>\n",
       "      <td>0.547832</td>\n",
       "      <td>0.000000</td>\n",
       "      <td>0.000000</td>\n",
       "      <td>0.000000</td>\n",
       "    </tr>\n",
       "    <tr>\n",
       "      <th>2</th>\n",
       "      <td>0.000000</td>\n",
       "      <td>0.266075</td>\n",
       "      <td>0.342620</td>\n",
       "      <td>0.901008</td>\n",
       "      <td>0.000000</td>\n",
       "      <td>0.000000</td>\n",
       "    </tr>\n",
       "  </tbody>\n",
       "</table>\n",
       "</div>"
      ],
      "text/plain": [
       "        cab      call        me    please   tonight       you\n",
       "0  0.000000  0.385372  0.000000  0.000000  0.652491  0.652491\n",
       "1  0.720333  0.425441  0.547832  0.000000  0.000000  0.000000\n",
       "2  0.000000  0.266075  0.342620  0.901008  0.000000  0.000000"
      ]
     },
     "execution_count": 82,
     "metadata": {},
     "output_type": "execute_result"
    }
   ],
   "source": [
    "pd.DataFrame(vect.fit_transform(sentence).toarray(),columns=vect.get_feature_names())   #vektörün uzunluğunu hesap ediyor"
   ]
  },
  {
   "cell_type": "code",
   "execution_count": 83,
   "id": "5ffadc00",
   "metadata": {},
   "outputs": [],
   "source": [
    "yelp = pd.read_csv(\"yelp.csv\")"
   ]
  },
  {
   "cell_type": "code",
   "execution_count": 84,
   "id": "185d94b5",
   "metadata": {
    "scrolled": true
   },
   "outputs": [
    {
     "data": {
      "text/html": [
       "<div>\n",
       "<style scoped>\n",
       "    .dataframe tbody tr th:only-of-type {\n",
       "        vertical-align: middle;\n",
       "    }\n",
       "\n",
       "    .dataframe tbody tr th {\n",
       "        vertical-align: top;\n",
       "    }\n",
       "\n",
       "    .dataframe thead th {\n",
       "        text-align: right;\n",
       "    }\n",
       "</style>\n",
       "<table border=\"1\" class=\"dataframe\">\n",
       "  <thead>\n",
       "    <tr style=\"text-align: right;\">\n",
       "      <th></th>\n",
       "      <th>business_id</th>\n",
       "      <th>date</th>\n",
       "      <th>review_id</th>\n",
       "      <th>stars</th>\n",
       "      <th>text</th>\n",
       "      <th>type</th>\n",
       "      <th>user_id</th>\n",
       "      <th>cool</th>\n",
       "      <th>useful</th>\n",
       "      <th>funny</th>\n",
       "    </tr>\n",
       "  </thead>\n",
       "  <tbody>\n",
       "    <tr>\n",
       "      <th>0</th>\n",
       "      <td>9yKzy9PApeiPPOUJEtnvkg</td>\n",
       "      <td>2011-01-26</td>\n",
       "      <td>fWKvX83p0-ka4JS3dc6E5A</td>\n",
       "      <td>5</td>\n",
       "      <td>My wife took me here on my birthday for breakf...</td>\n",
       "      <td>review</td>\n",
       "      <td>rLtl8ZkDX5vH5nAx9C3q5Q</td>\n",
       "      <td>2</td>\n",
       "      <td>5</td>\n",
       "      <td>0</td>\n",
       "    </tr>\n",
       "    <tr>\n",
       "      <th>1</th>\n",
       "      <td>ZRJwVLyzEJq1VAihDhYiow</td>\n",
       "      <td>2011-07-27</td>\n",
       "      <td>IjZ33sJrzXqU-0X6U8NwyA</td>\n",
       "      <td>5</td>\n",
       "      <td>I have no idea why some people give bad review...</td>\n",
       "      <td>review</td>\n",
       "      <td>0a2KyEL0d3Yb1V6aivbIuQ</td>\n",
       "      <td>0</td>\n",
       "      <td>0</td>\n",
       "      <td>0</td>\n",
       "    </tr>\n",
       "    <tr>\n",
       "      <th>2</th>\n",
       "      <td>6oRAC4uyJCsJl1X0WZpVSA</td>\n",
       "      <td>2012-06-14</td>\n",
       "      <td>IESLBzqUCLdSzSqm0eCSxQ</td>\n",
       "      <td>4</td>\n",
       "      <td>love the gyro plate. Rice is so good and I als...</td>\n",
       "      <td>review</td>\n",
       "      <td>0hT2KtfLiobPvh6cDC8JQg</td>\n",
       "      <td>0</td>\n",
       "      <td>1</td>\n",
       "      <td>0</td>\n",
       "    </tr>\n",
       "    <tr>\n",
       "      <th>3</th>\n",
       "      <td>_1QQZuf4zZOyFCvXc0o6Vg</td>\n",
       "      <td>2010-05-27</td>\n",
       "      <td>G-WvGaISbqqaMHlNnByodA</td>\n",
       "      <td>5</td>\n",
       "      <td>Rosie, Dakota, and I LOVE Chaparral Dog Park!!...</td>\n",
       "      <td>review</td>\n",
       "      <td>uZetl9T0NcROGOyFfughhg</td>\n",
       "      <td>1</td>\n",
       "      <td>2</td>\n",
       "      <td>0</td>\n",
       "    </tr>\n",
       "    <tr>\n",
       "      <th>4</th>\n",
       "      <td>6ozycU1RpktNG2-1BroVtw</td>\n",
       "      <td>2012-01-05</td>\n",
       "      <td>1uJFq2r5QfJG_6ExMRCaGw</td>\n",
       "      <td>5</td>\n",
       "      <td>General Manager Scott Petello is a good egg!!!...</td>\n",
       "      <td>review</td>\n",
       "      <td>vYmM4KTsC8ZfQBg-j5MWkw</td>\n",
       "      <td>0</td>\n",
       "      <td>0</td>\n",
       "      <td>0</td>\n",
       "    </tr>\n",
       "  </tbody>\n",
       "</table>\n",
       "</div>"
      ],
      "text/plain": [
       "              business_id        date               review_id  stars  \\\n",
       "0  9yKzy9PApeiPPOUJEtnvkg  2011-01-26  fWKvX83p0-ka4JS3dc6E5A      5   \n",
       "1  ZRJwVLyzEJq1VAihDhYiow  2011-07-27  IjZ33sJrzXqU-0X6U8NwyA      5   \n",
       "2  6oRAC4uyJCsJl1X0WZpVSA  2012-06-14  IESLBzqUCLdSzSqm0eCSxQ      4   \n",
       "3  _1QQZuf4zZOyFCvXc0o6Vg  2010-05-27  G-WvGaISbqqaMHlNnByodA      5   \n",
       "4  6ozycU1RpktNG2-1BroVtw  2012-01-05  1uJFq2r5QfJG_6ExMRCaGw      5   \n",
       "\n",
       "                                                text    type  \\\n",
       "0  My wife took me here on my birthday for breakf...  review   \n",
       "1  I have no idea why some people give bad review...  review   \n",
       "2  love the gyro plate. Rice is so good and I als...  review   \n",
       "3  Rosie, Dakota, and I LOVE Chaparral Dog Park!!...  review   \n",
       "4  General Manager Scott Petello is a good egg!!!...  review   \n",
       "\n",
       "                  user_id  cool  useful  funny  \n",
       "0  rLtl8ZkDX5vH5nAx9C3q5Q     2       5      0  \n",
       "1  0a2KyEL0d3Yb1V6aivbIuQ     0       0      0  \n",
       "2  0hT2KtfLiobPvh6cDC8JQg     0       1      0  \n",
       "3  uZetl9T0NcROGOyFfughhg     1       2      0  \n",
       "4  vYmM4KTsC8ZfQBg-j5MWkw     0       0      0  "
      ]
     },
     "execution_count": 84,
     "metadata": {},
     "output_type": "execute_result"
    }
   ],
   "source": [
    "yelp.head()"
   ]
  },
  {
   "cell_type": "code",
   "execution_count": 85,
   "id": "2b70890d",
   "metadata": {},
   "outputs": [
    {
     "name": "stdout",
     "output_type": "stream",
     "text": [
      "<class 'pandas.core.frame.DataFrame'>\n",
      "RangeIndex: 10000 entries, 0 to 9999\n",
      "Data columns (total 10 columns):\n",
      " #   Column       Non-Null Count  Dtype \n",
      "---  ------       --------------  ----- \n",
      " 0   business_id  10000 non-null  object\n",
      " 1   date         10000 non-null  object\n",
      " 2   review_id    10000 non-null  object\n",
      " 3   stars        10000 non-null  int64 \n",
      " 4   text         10000 non-null  object\n",
      " 5   type         10000 non-null  object\n",
      " 6   user_id      10000 non-null  object\n",
      " 7   cool         10000 non-null  int64 \n",
      " 8   useful       10000 non-null  int64 \n",
      " 9   funny        10000 non-null  int64 \n",
      "dtypes: int64(4), object(6)\n",
      "memory usage: 781.4+ KB\n"
     ]
    }
   ],
   "source": [
    "yelp.info()"
   ]
  },
  {
   "cell_type": "code",
   "execution_count": 86,
   "id": "399bfa70",
   "metadata": {},
   "outputs": [],
   "source": [
    "yelp[\"text\"] = yelp[\"text\"].str.lower()"
   ]
  },
  {
   "cell_type": "code",
   "execution_count": 87,
   "id": "38c824ef",
   "metadata": {},
   "outputs": [
    {
     "name": "stderr",
     "output_type": "stream",
     "text": [
      "<ipython-input-87-a5a3eb85ab32>:1: FutureWarning: The default value of regex will change from True to False in a future version.\n",
      "  yelp[\"text\"] = yelp[\"text\"].str.replace(\"[^\\w\\s]\",\"\")\n"
     ]
    }
   ],
   "source": [
    "yelp[\"text\"] = yelp[\"text\"].str.replace(\"[^\\w\\s]\",\"\")  \n",
    "#noktalama işaretlerini kaldırdık."
   ]
  },
  {
   "cell_type": "code",
   "execution_count": 88,
   "id": "37320c00",
   "metadata": {
    "scrolled": true
   },
   "outputs": [
    {
     "name": "stderr",
     "output_type": "stream",
     "text": [
      "<ipython-input-88-90ff8084f76a>:1: FutureWarning: The default value of regex will change from True to False in a future version.\n",
      "  yelp[\"text\"] = yelp[\"text\"].str.replace(\"\\d+\",\"\")\n"
     ]
    }
   ],
   "source": [
    "yelp[\"text\"] = yelp[\"text\"].str.replace(\"\\d+\",\"\")\n",
    "#rakamları kaldırdık"
   ]
  },
  {
   "cell_type": "code",
   "execution_count": 89,
   "id": "2f267983",
   "metadata": {},
   "outputs": [],
   "source": [
    "yelp[\"text\"] = yelp[\"text\"].str.replace(\"\\n\",\" \").replace(\"\\r\",\" \")\n",
    "#Enter ve yeni satir kodlarini kaldirdik"
   ]
  },
  {
   "cell_type": "code",
   "execution_count": 90,
   "id": "8c3d5054",
   "metadata": {},
   "outputs": [],
   "source": [
    "yelp_ei = yelp[(yelp.stars==5) | (yelp.stars==1)]  \n",
    "#en iyi ve en kötü yorumları ayırdık  -> indexler bozuldu"
   ]
  },
  {
   "cell_type": "code",
   "execution_count": 91,
   "id": "cef7e19f",
   "metadata": {},
   "outputs": [],
   "source": [
    "yelp_ei.reset_index(drop=True,inplace=True)\n",
    "# indexleri düzenledik"
   ]
  },
  {
   "cell_type": "code",
   "execution_count": 92,
   "id": "4eb8c354",
   "metadata": {
    "scrolled": true
   },
   "outputs": [
    {
     "data": {
      "text/html": [
       "<div>\n",
       "<style scoped>\n",
       "    .dataframe tbody tr th:only-of-type {\n",
       "        vertical-align: middle;\n",
       "    }\n",
       "\n",
       "    .dataframe tbody tr th {\n",
       "        vertical-align: top;\n",
       "    }\n",
       "\n",
       "    .dataframe thead th {\n",
       "        text-align: right;\n",
       "    }\n",
       "</style>\n",
       "<table border=\"1\" class=\"dataframe\">\n",
       "  <thead>\n",
       "    <tr style=\"text-align: right;\">\n",
       "      <th></th>\n",
       "      <th>business_id</th>\n",
       "      <th>date</th>\n",
       "      <th>review_id</th>\n",
       "      <th>stars</th>\n",
       "      <th>text</th>\n",
       "      <th>type</th>\n",
       "      <th>user_id</th>\n",
       "      <th>cool</th>\n",
       "      <th>useful</th>\n",
       "      <th>funny</th>\n",
       "    </tr>\n",
       "  </thead>\n",
       "  <tbody>\n",
       "    <tr>\n",
       "      <th>0</th>\n",
       "      <td>9yKzy9PApeiPPOUJEtnvkg</td>\n",
       "      <td>2011-01-26</td>\n",
       "      <td>fWKvX83p0-ka4JS3dc6E5A</td>\n",
       "      <td>5</td>\n",
       "      <td>my wife took me here on my birthday for breakf...</td>\n",
       "      <td>review</td>\n",
       "      <td>rLtl8ZkDX5vH5nAx9C3q5Q</td>\n",
       "      <td>2</td>\n",
       "      <td>5</td>\n",
       "      <td>0</td>\n",
       "    </tr>\n",
       "    <tr>\n",
       "      <th>1</th>\n",
       "      <td>ZRJwVLyzEJq1VAihDhYiow</td>\n",
       "      <td>2011-07-27</td>\n",
       "      <td>IjZ33sJrzXqU-0X6U8NwyA</td>\n",
       "      <td>5</td>\n",
       "      <td>i have no idea why some people give bad review...</td>\n",
       "      <td>review</td>\n",
       "      <td>0a2KyEL0d3Yb1V6aivbIuQ</td>\n",
       "      <td>0</td>\n",
       "      <td>0</td>\n",
       "      <td>0</td>\n",
       "    </tr>\n",
       "    <tr>\n",
       "      <th>2</th>\n",
       "      <td>_1QQZuf4zZOyFCvXc0o6Vg</td>\n",
       "      <td>2010-05-27</td>\n",
       "      <td>G-WvGaISbqqaMHlNnByodA</td>\n",
       "      <td>5</td>\n",
       "      <td>rosie dakota and i love chaparral dog park its...</td>\n",
       "      <td>review</td>\n",
       "      <td>uZetl9T0NcROGOyFfughhg</td>\n",
       "      <td>1</td>\n",
       "      <td>2</td>\n",
       "      <td>0</td>\n",
       "    </tr>\n",
       "    <tr>\n",
       "      <th>3</th>\n",
       "      <td>6ozycU1RpktNG2-1BroVtw</td>\n",
       "      <td>2012-01-05</td>\n",
       "      <td>1uJFq2r5QfJG_6ExMRCaGw</td>\n",
       "      <td>5</td>\n",
       "      <td>general manager scott petello is a good egg no...</td>\n",
       "      <td>review</td>\n",
       "      <td>vYmM4KTsC8ZfQBg-j5MWkw</td>\n",
       "      <td>0</td>\n",
       "      <td>0</td>\n",
       "      <td>0</td>\n",
       "    </tr>\n",
       "    <tr>\n",
       "      <th>4</th>\n",
       "      <td>zp713qNhx8d9KCJJnrw1xA</td>\n",
       "      <td>2010-02-12</td>\n",
       "      <td>riFQ3vxNpP4rWLk_CSri2A</td>\n",
       "      <td>5</td>\n",
       "      <td>drop what youre doing and drive here after i a...</td>\n",
       "      <td>review</td>\n",
       "      <td>wFweIWhv2fREZV_dYkz_1g</td>\n",
       "      <td>7</td>\n",
       "      <td>7</td>\n",
       "      <td>4</td>\n",
       "    </tr>\n",
       "    <tr>\n",
       "      <th>...</th>\n",
       "      <td>...</td>\n",
       "      <td>...</td>\n",
       "      <td>...</td>\n",
       "      <td>...</td>\n",
       "      <td>...</td>\n",
       "      <td>...</td>\n",
       "      <td>...</td>\n",
       "      <td>...</td>\n",
       "      <td>...</td>\n",
       "      <td>...</td>\n",
       "    </tr>\n",
       "    <tr>\n",
       "      <th>4081</th>\n",
       "      <td>R8VwdLyvsp9iybNqRvm94g</td>\n",
       "      <td>2011-10-03</td>\n",
       "      <td>pcEeHdAJPoFNF23es0kKWg</td>\n",
       "      <td>5</td>\n",
       "      <td>yes i do rock the hipster joints  i dig this p...</td>\n",
       "      <td>review</td>\n",
       "      <td>b92Y3tyWTQQZ5FLifex62Q</td>\n",
       "      <td>1</td>\n",
       "      <td>1</td>\n",
       "      <td>1</td>\n",
       "    </tr>\n",
       "    <tr>\n",
       "      <th>4082</th>\n",
       "      <td>WJ5mq4EiWYAA4Vif0xDfdg</td>\n",
       "      <td>2011-12-05</td>\n",
       "      <td>EuHX-39FR7tyyG1ElvN1Jw</td>\n",
       "      <td>5</td>\n",
       "      <td>only  stars   a few notes the folks that rated...</td>\n",
       "      <td>review</td>\n",
       "      <td>hTau-iNZFwoNsPCaiIUTEA</td>\n",
       "      <td>1</td>\n",
       "      <td>1</td>\n",
       "      <td>0</td>\n",
       "    </tr>\n",
       "    <tr>\n",
       "      <th>4083</th>\n",
       "      <td>f96lWMIAUhYIYy9gOktivQ</td>\n",
       "      <td>2009-03-10</td>\n",
       "      <td>YF17z7HWlMj6aezZc-pVEw</td>\n",
       "      <td>5</td>\n",
       "      <td>im not normally one to jump at reviewing a cha...</td>\n",
       "      <td>review</td>\n",
       "      <td>W_QXYA7A0IhMrvbckz7eVg</td>\n",
       "      <td>2</td>\n",
       "      <td>3</td>\n",
       "      <td>2</td>\n",
       "    </tr>\n",
       "    <tr>\n",
       "      <th>4084</th>\n",
       "      <td>L3BSpFvxcNf3T_teitgt6A</td>\n",
       "      <td>2012-03-19</td>\n",
       "      <td>0nxb1gIGFgk3WbC5zwhKZg</td>\n",
       "      <td>5</td>\n",
       "      <td>lets seewhat is there not to like about surpri...</td>\n",
       "      <td>review</td>\n",
       "      <td>OzOZv-Knlw3oz9K5Kh5S6A</td>\n",
       "      <td>1</td>\n",
       "      <td>2</td>\n",
       "      <td>1</td>\n",
       "    </tr>\n",
       "    <tr>\n",
       "      <th>4085</th>\n",
       "      <td>pF7uRzygyZsltbmVpjIyvw</td>\n",
       "      <td>2010-10-16</td>\n",
       "      <td>vWSmOhg2ID1MNZHaWapGbA</td>\n",
       "      <td>5</td>\n",
       "      <td>locations all  star average i think arizona r...</td>\n",
       "      <td>review</td>\n",
       "      <td>KSBFytcdjPKZgXKQnYQdkA</td>\n",
       "      <td>0</td>\n",
       "      <td>0</td>\n",
       "      <td>0</td>\n",
       "    </tr>\n",
       "  </tbody>\n",
       "</table>\n",
       "<p>4086 rows × 10 columns</p>\n",
       "</div>"
      ],
      "text/plain": [
       "                 business_id        date               review_id  stars  \\\n",
       "0     9yKzy9PApeiPPOUJEtnvkg  2011-01-26  fWKvX83p0-ka4JS3dc6E5A      5   \n",
       "1     ZRJwVLyzEJq1VAihDhYiow  2011-07-27  IjZ33sJrzXqU-0X6U8NwyA      5   \n",
       "2     _1QQZuf4zZOyFCvXc0o6Vg  2010-05-27  G-WvGaISbqqaMHlNnByodA      5   \n",
       "3     6ozycU1RpktNG2-1BroVtw  2012-01-05  1uJFq2r5QfJG_6ExMRCaGw      5   \n",
       "4     zp713qNhx8d9KCJJnrw1xA  2010-02-12  riFQ3vxNpP4rWLk_CSri2A      5   \n",
       "...                      ...         ...                     ...    ...   \n",
       "4081  R8VwdLyvsp9iybNqRvm94g  2011-10-03  pcEeHdAJPoFNF23es0kKWg      5   \n",
       "4082  WJ5mq4EiWYAA4Vif0xDfdg  2011-12-05  EuHX-39FR7tyyG1ElvN1Jw      5   \n",
       "4083  f96lWMIAUhYIYy9gOktivQ  2009-03-10  YF17z7HWlMj6aezZc-pVEw      5   \n",
       "4084  L3BSpFvxcNf3T_teitgt6A  2012-03-19  0nxb1gIGFgk3WbC5zwhKZg      5   \n",
       "4085  pF7uRzygyZsltbmVpjIyvw  2010-10-16  vWSmOhg2ID1MNZHaWapGbA      5   \n",
       "\n",
       "                                                   text    type  \\\n",
       "0     my wife took me here on my birthday for breakf...  review   \n",
       "1     i have no idea why some people give bad review...  review   \n",
       "2     rosie dakota and i love chaparral dog park its...  review   \n",
       "3     general manager scott petello is a good egg no...  review   \n",
       "4     drop what youre doing and drive here after i a...  review   \n",
       "...                                                 ...     ...   \n",
       "4081  yes i do rock the hipster joints  i dig this p...  review   \n",
       "4082  only  stars   a few notes the folks that rated...  review   \n",
       "4083  im not normally one to jump at reviewing a cha...  review   \n",
       "4084  lets seewhat is there not to like about surpri...  review   \n",
       "4085   locations all  star average i think arizona r...  review   \n",
       "\n",
       "                     user_id  cool  useful  funny  \n",
       "0     rLtl8ZkDX5vH5nAx9C3q5Q     2       5      0  \n",
       "1     0a2KyEL0d3Yb1V6aivbIuQ     0       0      0  \n",
       "2     uZetl9T0NcROGOyFfughhg     1       2      0  \n",
       "3     vYmM4KTsC8ZfQBg-j5MWkw     0       0      0  \n",
       "4     wFweIWhv2fREZV_dYkz_1g     7       7      4  \n",
       "...                      ...   ...     ...    ...  \n",
       "4081  b92Y3tyWTQQZ5FLifex62Q     1       1      1  \n",
       "4082  hTau-iNZFwoNsPCaiIUTEA     1       1      0  \n",
       "4083  W_QXYA7A0IhMrvbckz7eVg     2       3      2  \n",
       "4084  OzOZv-Knlw3oz9K5Kh5S6A     1       2      1  \n",
       "4085  KSBFytcdjPKZgXKQnYQdkA     0       0      0  \n",
       "\n",
       "[4086 rows x 10 columns]"
      ]
     },
     "execution_count": 92,
     "metadata": {},
     "output_type": "execute_result"
    }
   ],
   "source": [
    "yelp_ei"
   ]
  },
  {
   "cell_type": "code",
   "execution_count": 93,
   "id": "386fff9e",
   "metadata": {},
   "outputs": [],
   "source": [
    "x = yelp_ei.text   # x -> yorumlar\n",
    "y = yelp_ei.stars  # y -> verilen yıldızlar"
   ]
  },
  {
   "cell_type": "code",
   "execution_count": 94,
   "id": "5b1e5e90",
   "metadata": {},
   "outputs": [],
   "source": [
    "from sklearn.model_selection import train_test_split"
   ]
  },
  {
   "cell_type": "code",
   "execution_count": 95,
   "id": "f249171c",
   "metadata": {},
   "outputs": [],
   "source": [
    "from sklearn.feature_extraction.text import CountVectorizer, TfidfVectorizer"
   ]
  },
  {
   "cell_type": "code",
   "execution_count": 125,
   "id": "eafd14e2",
   "metadata": {},
   "outputs": [],
   "source": [
    "vect = CountVectorizer(lowercase=True,stop_words='english')  # yukarda küçük harfe çevireden burda çevirebilmek için -> lowercase\n",
    "# CountVectorizer'a ngram_range=(1,3) parametresini eklersek kelimeleri birer birer değil üçer üçer alıyor.\n",
    "x_new = vect.fit_transform(x)   # kelimeleri sütun olarak tuttuk"
   ]
  },
  {
   "cell_type": "code",
   "execution_count": 126,
   "id": "b50e2088",
   "metadata": {},
   "outputs": [
    {
     "name": "stdout",
     "output_type": "stream",
     "text": [
      "  (0, 20518)\t1\n",
      "  (0, 19019)\t1\n",
      "  (0, 1760)\t1\n",
      "  (0, 2168)\t1\n",
      "  (0, 6315)\t3\n",
      "  (0, 20318)\t1\n",
      "  (0, 13576)\t1\n",
      "  (0, 16789)\t1\n",
      "  (0, 13044)\t1\n",
      "  (0, 13088)\t1\n",
      "  (0, 8108)\t1\n",
      "  (0, 37)\t1\n",
      "  (0, 13962)\t1\n",
      "  (0, 20152)\t1\n",
      "  (0, 7103)\t1\n",
      "  (0, 896)\t1\n",
      "  (0, 14741)\t2\n",
      "  (0, 16309)\t1\n",
      "  (0, 15996)\t1\n",
      "  (0, 11979)\t1\n",
      "  (0, 10862)\t1\n",
      "  (0, 10650)\t1\n",
      "  (0, 13877)\t1\n",
      "  (0, 6806)\t1\n",
      "  (0, 14340)\t2\n",
      "  :\t:\n",
      "  (4085, 12901)\t1\n",
      "  (4085, 11115)\t1\n",
      "  (4085, 9727)\t1\n",
      "  (4085, 10727)\t2\n",
      "  (4085, 10504)\t1\n",
      "  (4085, 1943)\t1\n",
      "  (4085, 11755)\t1\n",
      "  (4085, 6589)\t1\n",
      "  (4085, 3242)\t1\n",
      "  (4085, 3259)\t1\n",
      "  (4085, 1145)\t1\n",
      "  (4085, 17554)\t1\n",
      "  (4085, 17344)\t1\n",
      "  (4085, 11710)\t1\n",
      "  (4085, 6898)\t1\n",
      "  (4085, 16306)\t1\n",
      "  (4085, 175)\t1\n",
      "  (4085, 19349)\t1\n",
      "  (4085, 10806)\t1\n",
      "  (4085, 2332)\t1\n",
      "  (4085, 5677)\t1\n",
      "  (4085, 10303)\t1\n",
      "  (4085, 17368)\t1\n",
      "  (4085, 487)\t1\n",
      "  (4085, 13349)\t1\n"
     ]
    }
   ],
   "source": [
    "print(x_new)"
   ]
  },
  {
   "cell_type": "code",
   "execution_count": 127,
   "id": "9cd46732",
   "metadata": {
    "collapsed": true
   },
   "outputs": [
    {
     "name": "stdout",
     "output_type": "stream",
     "text": [
      "0       my wife took me here on my birthday for breakf...\n",
      "1       i have no idea why some people give bad review...\n",
      "2       rosie dakota and i love chaparral dog park its...\n",
      "3       general manager scott petello is a good egg no...\n",
      "4       drop what youre doing and drive here after i a...\n",
      "                              ...                        \n",
      "4081    yes i do rock the hipster joints  i dig this p...\n",
      "4082    only  stars   a few notes the folks that rated...\n",
      "4083    im not normally one to jump at reviewing a cha...\n",
      "4084    lets seewhat is there not to like about surpri...\n",
      "4085     locations all  star average i think arizona r...\n",
      "Name: text, Length: 4086, dtype: object\n"
     ]
    }
   ],
   "source": [
    "print(x)"
   ]
  },
  {
   "cell_type": "code",
   "execution_count": 128,
   "id": "507231c8",
   "metadata": {},
   "outputs": [],
   "source": [
    "x_train,x_test,y_train,y_test = train_test_split(x_new,y,random_state=42)"
   ]
  },
  {
   "cell_type": "code",
   "execution_count": 129,
   "id": "8b8280d1",
   "metadata": {
    "collapsed": true
   },
   "outputs": [
    {
     "name": "stdout",
     "output_type": "stream",
     "text": [
      "  (0, 6315)\t1\n",
      "  (0, 518)\t1\n",
      "  (0, 16366)\t1\n",
      "  (0, 13858)\t1\n",
      "  (0, 20652)\t1\n",
      "  (0, 10923)\t1\n",
      "  (0, 19871)\t1\n",
      "  (0, 14941)\t1\n",
      "  (0, 10844)\t1\n",
      "  (0, 16376)\t1\n",
      "  (0, 11444)\t1\n",
      "  (0, 1778)\t1\n",
      "  (0, 5814)\t1\n",
      "  (0, 20686)\t1\n",
      "  (0, 957)\t1\n",
      "  (0, 10897)\t1\n",
      "  (0, 8038)\t1\n",
      "  (0, 17756)\t1\n",
      "  (0, 16591)\t1\n",
      "  (0, 7917)\t1\n",
      "  (0, 9231)\t1\n",
      "  (0, 12355)\t1\n",
      "  (0, 2106)\t1\n",
      "  (0, 17734)\t1\n",
      "  (0, 10932)\t1\n",
      "  :\t:\n",
      "  (3062, 6068)\t1\n",
      "  (3062, 20439)\t1\n",
      "  (3062, 5726)\t1\n",
      "  (3062, 12567)\t1\n",
      "  (3063, 13877)\t1\n",
      "  (3063, 1652)\t1\n",
      "  (3063, 9768)\t1\n",
      "  (3063, 4909)\t1\n",
      "  (3063, 8007)\t2\n",
      "  (3063, 17500)\t1\n",
      "  (3063, 12325)\t1\n",
      "  (3063, 15392)\t1\n",
      "  (3063, 17572)\t1\n",
      "  (3063, 3112)\t1\n",
      "  (3063, 2135)\t1\n",
      "  (3063, 7335)\t1\n",
      "  (3063, 9205)\t1\n",
      "  (3063, 8576)\t1\n",
      "  (3063, 1980)\t1\n",
      "  (3063, 15496)\t1\n",
      "  (3063, 19791)\t1\n",
      "  (3063, 3133)\t1\n",
      "  (3063, 16758)\t1\n",
      "  (3063, 11028)\t1\n",
      "  (3063, 11291)\t1\n"
     ]
    }
   ],
   "source": [
    "print(x_train)"
   ]
  },
  {
   "cell_type": "code",
   "execution_count": 130,
   "id": "16dc9132",
   "metadata": {},
   "outputs": [],
   "source": [
    "from sklearn.naive_bayes import MultinomialNB"
   ]
  },
  {
   "cell_type": "code",
   "execution_count": 131,
   "id": "c9c32260",
   "metadata": {},
   "outputs": [],
   "source": [
    "mb = MultinomialNB()"
   ]
  },
  {
   "cell_type": "code",
   "execution_count": 132,
   "id": "6f9961a6",
   "metadata": {},
   "outputs": [
    {
     "data": {
      "text/plain": [
       "MultinomialNB()"
      ]
     },
     "execution_count": 132,
     "metadata": {},
     "output_type": "execute_result"
    }
   ],
   "source": [
    "mb.fit(x_train,y_train)"
   ]
  },
  {
   "cell_type": "code",
   "execution_count": 133,
   "id": "ed168e28",
   "metadata": {},
   "outputs": [],
   "source": [
    "from sklearn.metrics import accuracy_score"
   ]
  },
  {
   "cell_type": "code",
   "execution_count": 134,
   "id": "f71d49e1",
   "metadata": {},
   "outputs": [],
   "source": [
    "prediction = mb.predict(x_test)"
   ]
  },
  {
   "cell_type": "code",
   "execution_count": 135,
   "id": "cb0a479e",
   "metadata": {},
   "outputs": [
    {
     "data": {
      "text/plain": [
       "0.9041095890410958"
      ]
     },
     "execution_count": 135,
     "metadata": {},
     "output_type": "execute_result"
    }
   ],
   "source": [
    "accuracy_score(y_test,prediction)"
   ]
  },
  {
   "cell_type": "code",
   "execution_count": 136,
   "id": "92f32eca",
   "metadata": {},
   "outputs": [],
   "source": [
    "from sklearn.tree import DecisionTreeClassifier"
   ]
  },
  {
   "cell_type": "code",
   "execution_count": 137,
   "id": "fcf224b9",
   "metadata": {},
   "outputs": [],
   "source": [
    "d = DecisionTreeClassifier()"
   ]
  },
  {
   "cell_type": "code",
   "execution_count": 138,
   "id": "007b637e",
   "metadata": {},
   "outputs": [
    {
     "data": {
      "text/plain": [
       "DecisionTreeClassifier()"
      ]
     },
     "execution_count": 138,
     "metadata": {},
     "output_type": "execute_result"
    }
   ],
   "source": [
    "d.fit(x_train,y_train)"
   ]
  },
  {
   "cell_type": "code",
   "execution_count": 139,
   "id": "bba59211",
   "metadata": {},
   "outputs": [],
   "source": [
    "prediction2 = d.predict(x_test)"
   ]
  },
  {
   "cell_type": "code",
   "execution_count": 140,
   "id": "ddc07193",
   "metadata": {},
   "outputs": [
    {
     "data": {
      "text/plain": [
       "0.850293542074364"
      ]
     },
     "execution_count": 140,
     "metadata": {},
     "output_type": "execute_result"
    }
   ],
   "source": [
    "accuracy_score(prediction2,y_test)"
   ]
  },
  {
   "cell_type": "code",
   "execution_count": null,
   "id": "7a75d5f5",
   "metadata": {},
   "outputs": [],
   "source": []
  }
 ],
 "metadata": {
  "kernelspec": {
   "display_name": "Python 3",
   "language": "python",
   "name": "python3"
  },
  "language_info": {
   "codemirror_mode": {
    "name": "ipython",
    "version": 3
   },
   "file_extension": ".py",
   "mimetype": "text/x-python",
   "name": "python",
   "nbconvert_exporter": "python",
   "pygments_lexer": "ipython3",
   "version": "3.8.8"
  }
 },
 "nbformat": 4,
 "nbformat_minor": 5
}
